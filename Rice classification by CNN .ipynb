{
 "cells": [
  {
   "cell_type": "markdown",
   "id": "a39a05e7",
   "metadata": {},
   "source": [
    "# what's this project about ?\n",
    "we wanto to make a deep learning model by CNN \n",
    "\n",
    "## Frameworks\n",
    " Tensorflow / Keras / Pytorch\n",
    "\n",
    "## About data and target\n",
    "we have a dataset involve 5 types of rices we want to make a model that it can predict the types of rices\n",
    "\n",
    "## Dataset :\n",
    "https://www.kaggle.com/datasets/muratkokludataset/rice-image-dataset"
   ]
  },
  {
   "cell_type": "markdown",
   "id": "02cf56d3",
   "metadata": {},
   "source": [
    "# Import libraries"
   ]
  },
  {
   "cell_type": "code",
   "execution_count": 54,
   "id": "d70bcf98",
   "metadata": {},
   "outputs": [],
   "source": [
    "import numpy as np \n",
    "import matplotlib.pyplot as plt\n",
    "import seaborn as sns\n",
    "from PIL import Image\n",
    "\n",
    "import splitfolders\n",
    "\n",
    "import tensorflow as tf\n",
    "from tensorflow import keras\n",
    "from keras.models import Sequential\n",
    "from keras.layers import Conv2D , Activation , MaxPooling2D , Flatten , Dense \n",
    "\n",
    "import torch\n",
    "from   torchvision.utils import make_grid\n",
    "import torchvision.datasets as datasets\n",
    "import torchvision.transforms as transforms\n",
    "import torch.nn as nn\n",
    "import torch.nn.functional as F\n",
    "import torch.optim as optim\n",
    "\n",
    "from sklearn import metrics\n",
    "from sklearn.metrics import classification_report, confusion_matrix"
   ]
  },
  {
   "cell_type": "markdown",
   "id": "822d0685",
   "metadata": {},
   "source": [
    "# Separt the data\n",
    "in this step we want to separt the data to train, validation and test parts"
   ]
  },
  {
   "cell_type": "code",
   "execution_count": 8,
   "id": "e8f91937",
   "metadata": {},
   "outputs": [],
   "source": [
    "# input_folder = \"D:\\IT\\IMT Courses\\Deep Learning\\CNN\\Projects\\P2 (Final Project)\\Data\"\n",
    "# output = \"D:\\IT\\IMT Courses\\Deep Learning\\CNN\\Projects\\P2 (Final Project)\"\n",
    "# splitfolders.ratio(input_folder , output=output , ratio=(.7 ,.2 , .1))"
   ]
  },
  {
   "cell_type": "markdown",
   "id": "bcd4fb03",
   "metadata": {},
   "source": [
    "# Import the data"
   ]
  },
  {
   "cell_type": "markdown",
   "id": "8a5bf485",
   "metadata": {},
   "source": [
    "## The things wee need "
   ]
  },
  {
   "cell_type": "code",
   "execution_count": 9,
   "id": "c3d2fe01",
   "metadata": {},
   "outputs": [],
   "source": [
    "batch_size=32\n",
    "\n",
    "train_directory = r\"D:\\IT\\IMT Courses\\Deep Learning\\CNN\\Projects\\P2 (Final Project)\\Separated data\\train\"\n",
    "Validation_directory = r\"D:\\IT\\IMT Courses\\Deep Learning\\CNN\\Projects\\P2 (Final Project)\\Separated data\\val\"\n",
    "Test_directory = r\"D:\\IT\\IMT Courses\\Deep Learning\\CNN\\Projects\\P2 (Final Project)\\Separated data\\test\"\n",
    "\n",
    "classes = ('Arborio', 'Basmati', 'Ipsala', 'Jasmine', 'Karacadag') # We need this for pytorch"
   ]
  },
  {
   "cell_type": "markdown",
   "id": "ddb1b8dd",
   "metadata": {},
   "source": [
    "## Import data for keras"
   ]
  },
  {
   "cell_type": "code",
   "execution_count": 10,
   "id": "482da68a",
   "metadata": {},
   "outputs": [
    {
     "name": "stdout",
     "output_type": "stream",
     "text": [
      "Found 52500 files belonging to 5 classes.\n",
      "Found 15000 files belonging to 5 classes.\n",
      "Found 7500 files belonging to 5 classes.\n",
      "Trian classes names : ['Arborio', 'Basmati', 'Ipsala', 'Jasmine', 'Karacadag'] \n",
      " Validation classes names : ['Arborio', 'Basmati', 'Ipsala', 'Jasmine', 'Karacadag'] \n",
      " Test classes names : ['Arborio', 'Basmati', 'Ipsala', 'Jasmine', 'Karacadag']\n"
     ]
    }
   ],
   "source": [
    "Train = keras.utils.image_dataset_from_directory(\n",
    "        directory = train_directory,\n",
    "        labels = 'inferred',\n",
    "        label_mode = 'categorical',\n",
    "        batch_size= batch_size,\n",
    "        image_size=(256,256))\n",
    "\n",
    "Validation = keras.utils.image_dataset_from_directory(\n",
    "        directory = Validation_directory,\n",
    "        labels = 'inferred',\n",
    "        label_mode = 'categorical',\n",
    "        batch_size = batch_size,\n",
    "        image_size = (256 , 256))\n",
    "\n",
    "Test = keras.utils.image_dataset_from_directory(\n",
    "        directory = Test_directory,\n",
    "        labels = 'inferred',\n",
    "        label_mode = 'categorical',\n",
    "        batch_size= batch_size,\n",
    "        image_size=(256 , 256))\n",
    "\n",
    "print('Trian classes names :' , Train.class_names ,'\\n' ,\n",
    "      'Validation classes names :' , Validation.class_names ,'\\n' ,\n",
    "      'Test classes names :' , Test.class_names)"
   ]
  },
  {
   "cell_type": "markdown",
   "id": "cd197094",
   "metadata": {},
   "source": [
    "## Import data for pytorch"
   ]
  },
  {
   "cell_type": "code",
   "execution_count": 25,
   "id": "41e0e40b",
   "metadata": {},
   "outputs": [],
   "source": [
    "# Normalize and transform the data to tensoe\n",
    "transform = transforms.Compose([transforms.ToTensor(),transforms.Resize((227,227)),\n",
    "                                transforms.Normalize((0.4914, 0.4822, 0.4465) , (0.2023, 0.1994, 0.2010))])\n",
    "\n",
    "\n",
    "# Import train data for pytorch\n",
    "Training_data = datasets.ImageFolder(root=train_directory , transform=transform)\n",
    "TrainData = torch.utils.data.DataLoader(dataset=Training_data,batch_size=64,shuffle=True,num_workers=2)\n",
    "\n",
    "# Import validatin data for pytorch\n",
    "Validatin_data = datasets.ImageFolder(root=Validation_directory , transform=transform)\n",
    "ValidatinData = torch.utils.data.DataLoader(dataset=Validatin_data , batch_size=64,shuffle=True,num_workers=2)\n",
    "\n",
    "# Import test data for pytorch\n",
    "Test_data = datasets.ImageFolder(root=Test_directory , transform=transform)\n",
    "TestData = torch.utils.data.DataLoader(dataset=Test_data , batch_size=1 , shuffle=True)"
   ]
  },
  {
   "cell_type": "markdown",
   "id": "a7bc603a",
   "metadata": {},
   "source": [
    "# Lets take a look to data"
   ]
  },
  {
   "cell_type": "code",
   "execution_count": 6,
   "id": "ccacc886",
   "metadata": {},
   "outputs": [
    {
     "name": "stderr",
     "output_type": "stream",
     "text": [
      "Clipping input data to the valid range for imshow with RGB data ([0..1] for floats or [0..255] for integers).\n"
     ]
    },
    {
     "data": {
      "image/png": "[encoded data removed]",
      "text/plain": [
       "<Figure size 432x288 with 1 Axes>"
      ]
     },
     "metadata": {
      "needs_background": "light"
     },
     "output_type": "display_data"
    },
    {
     "name": "stdout",
     "output_type": "stream",
     "text": [
      "Basmati Karacadag Jasmine Jasmine Karacadag Jasmine Jasmine Jasmine Arborio Arborio Ipsala Arborio Jasmine Arborio Ipsala Ipsala Ipsala Karacadag Basmati Arborio Jasmine Arborio Ipsala Ipsala Karacadag Jasmine Basmati Basmati Karacadag Arborio Arborio Arborio\n"
     ]
    }
   ],
   "source": [
    "def imshow(image):\n",
    "    image = image/2 + 0.5\n",
    "    npimage = image.numpy()\n",
    "    plt.imshow(np.transpose(npimage , (1,2,0)))\n",
    "    plt.show()\n",
    "\n",
    "dataiter = iter(TrainData)\n",
    "images , labels = next(dataiter)\n",
    "imshow(make_grid(images))\n",
    "\n",
    "print(' '.join(f'{classes[labels[j]]:5s}' for j in range(batch_size)))"
   ]
  },
  {
   "cell_type": "markdown",
   "id": "c5c2bee2",
   "metadata": {},
   "source": [
    "# Make model with tensorflow "
   ]
  },
  {
   "cell_type": "code",
   "execution_count": 7,
   "id": "fb5cdc79",
   "metadata": {
    "scrolled": false
   },
   "outputs": [
    {
     "name": "stdout",
     "output_type": "stream",
     "text": [
      "Model: \"sequential\"\n",
      "_________________________________________________________________\n",
      "Layer (type)                 Output Shape              Param #   \n",
      "=================================================================\n",
      "conv2d (Conv2D)              (None, 254, 254, 32)      896       \n",
      "_________________________________________________________________\n",
      "max_pooling2d (MaxPooling2D) (None, 127, 127, 32)      0         \n",
      "_________________________________________________________________\n",
      "flatten (Flatten)            (None, 516128)            0         \n",
      "_________________________________________________________________\n",
      "dense (Dense)                (None, 512)               264258048 \n",
      "_________________________________________________________________\n",
      "dense_1 (Dense)              (None, 5)                 2565      \n",
      "=================================================================\n",
      "Total params: 264,261,509\n",
      "Trainable params: 264,261,509\n",
      "Non-trainable params: 0\n",
      "_________________________________________________________________\n",
      "Epoch 1/2\n",
      "1641/1641 [==============================] - 2269s 1s/step - loss: 9.4546 - accuracy: 0.9530 - val_loss: 0.1479 - val_accuracy: 0.9804\n",
      "Epoch 2/2\n",
      "1641/1641 [==============================] - 2209s 1s/step - loss: 0.0768 - accuracy: 0.9884 - val_loss: 0.1170 - val_accuracy: 0.9797\n"
     ]
    }
   ],
   "source": [
    "#Make CNN model\n",
    "CNN = Sequential()\n",
    "CNN.add(Conv2D(filters=32 , kernel_size=3 , activation='relu' , input_shape=[256,256,3]))\n",
    "CNN.add(MaxPooling2D(pool_size=2 , strides=2))\n",
    "CNN.add(Flatten())\n",
    "CNN.add(Dense(units=512 , activation='relu'))\n",
    "CNN.add(Dense(units=5 , activation='softmax'))\n",
    "CNN.summary()\n",
    "\n",
    "#Compile the model\n",
    "CNN.compile(optimizer='adam' , loss='binary_crossentropy' , metrics=['accuracy'])\n",
    "\n",
    "#Fit the model\n",
    "tf_CNN_model = CNN.fit(x=Train , validation_data=Validation , epochs=2)"
   ]
  },
  {
   "cell_type": "markdown",
   "id": "ead99356",
   "metadata": {},
   "source": [
    "## Save model\n",
    "we do not need train the model for using eachtime so we can save it and just load it whenever we need "
   ]
  },
  {
   "cell_type": "code",
   "execution_count": 32,
   "id": "a1162fa1",
   "metadata": {},
   "outputs": [
    {
     "name": "stdout",
     "output_type": "stream",
     "text": [
      "INFO:tensorflow:Assets written to: D:\\IT\\IMT Courses\\Deep Learning\\CNN\\Projects\\P2 (Final Project)\\assets\n"
     ]
    }
   ],
   "source": [
    "tensorflowPatch = r'D:\\IT\\IMT Courses\\Deep Learning\\CNN\\Projects\\P2 (Final Project)'\n",
    "model_save_path = tf.keras.models.save_model(\n",
    "    CNN, tensorflowPatch, overwrite=True, save_format='tf')"
   ]
  },
  {
   "cell_type": "markdown",
   "id": "0c16ffd0",
   "metadata": {},
   "source": [
    "## Plots"
   ]
  },
  {
   "cell_type": "code",
   "execution_count": 10,
   "id": "d0f83687",
   "metadata": {},
   "outputs": [
    {
     "data": {
      "text/plain": [
       "<matplotlib.legend.Legend at 0x1eb0674be80>"
      ]
     },
     "execution_count": 10,
     "metadata": {},
     "output_type": "execute_result"
    },
    {
     "data": {
      "image/png": "[encoded data removed]",
      "text/plain": [
       "<Figure size 720x432 with 1 Axes>"
      ]
     },
     "metadata": {
      "needs_background": "light"
     },
     "output_type": "display_data"
    }
   ],
   "source": [
    "plt.figure(figsize=(10,6))\n",
    "sns.set_style('whitegrid')\n",
    "plt.plot(tf_CNN_model.history['accuracy'] , color='r' , marker='o')\n",
    "plt.plot(tf_CNN_model.history['val_accuracy'] , color='g' , marker='o')\n",
    "plt.title('Accuracy comparison between Validation and Train Data set',fontsize=15 , color='b')\n",
    "plt.ylabel('Accuracy')\n",
    "plt.xlabel('Epoch')\n",
    "plt.legend(['Train', 'Test'], loc='lower right')"
   ]
  },
  {
   "cell_type": "code",
   "execution_count": 11,
   "id": "e45fbab4",
   "metadata": {},
   "outputs": [
    {
     "data": {
      "text/plain": [
       "<matplotlib.legend.Legend at 0x1eb068d7a00>"
      ]
     },
     "execution_count": 11,
     "metadata": {},
     "output_type": "execute_result"
    },
    {
     "data": {
      "image/png": "[encoded data removed]",
      "text/plain": [
       "<Figure size 720x432 with 1 Axes>"
      ]
     },
     "metadata": {},
     "output_type": "display_data"
    }
   ],
   "source": [
    "plt.figure(figsize=(10,6))\n",
    "sns.set_style('whitegrid')\n",
    "plt.plot(tf_CNN_model.history['loss'] , color='r' , marker='o')\n",
    "plt.plot(tf_CNN_model.history['val_loss'] , color='g' , marker='o')\n",
    "plt.title('Loss comparison between Validation and Train Data set',fontsize=15 , color='b')\n",
    "plt.ylabel('Accuracy')\n",
    "plt.xlabel('Epoch')\n",
    "plt.legend(['Train', 'Test'], loc='lower right')"
   ]
  },
  {
   "cell_type": "markdown",
   "id": "d0b4a7c1",
   "metadata": {},
   "source": [
    "## Evaluate with real data"
   ]
  },
  {
   "cell_type": "code",
   "execution_count": 54,
   "id": "8e872884",
   "metadata": {},
   "outputs": [
    {
     "name": "stdout",
     "output_type": "stream",
     "text": [
      "X_test shape :  (3200, 256, 256, 3) y_test shape :  (3200, 5)\n",
      "accuracy score :  0.98\n",
      "              precision    recall  f1-score   support\n",
      "\n",
      "     Arborio       0.94      0.99      0.96       637\n",
      "     Basmati       1.00      0.98      0.99       622\n",
      "      Ipsala       1.00      1.00      1.00       645\n",
      "     Jasmine       0.98      0.99      0.98       639\n",
      "   Karacadag       1.00      0.94      0.97       657\n",
      "\n",
      "   micro avg       0.98      0.98      0.98      3200\n",
      "   macro avg       0.98      0.98      0.98      3200\n",
      "weighted avg       0.98      0.98      0.98      3200\n",
      " samples avg       0.98      0.98      0.98      3200\n",
      "\n"
     ]
    },
    {
     "data": {
      "image/png": "[encoded data removed]",
      "text/plain": [
       "<Figure size 432x432 with 2 Axes>"
      ]
     },
     "metadata": {},
     "output_type": "display_data"
    }
   ],
   "source": [
    "#A loop for mine the images with it labels from Test\n",
    "X_test, y_test = None, None\n",
    "for images, labels in Test.take(100):\n",
    "    if X_test == None or y_test == None:\n",
    "        X_test = images\n",
    "        y_test = labels\n",
    "    else:\n",
    "        X_test = tf.concat([X_test, images], axis = 0)\n",
    "        y_test = tf.concat([y_test, labels], axis = 0)\n",
    "                \n",
    "print('X_test shape : ' , X_test.shape , 'y_test shape : ' , y_test.shape)\n",
    "\n",
    "y_pred_proba = CNN.predict(X_test)\n",
    "y_pred = np.argmax(y_pred_proba, axis=1)\n",
    "\n",
    "# Convert y_pred to one-hot encoded format\n",
    "y_pred_onehot = np.zeros_like(y_test)\n",
    "y_pred_onehot[np.arange(len(y_pred)), y_pred]=1\n",
    "\n",
    "y_pred = y_pred_onehot\n",
    "\n",
    "print('accuracy score : ', metrics.accuracy_score(y_test, y_pred))\n",
    "\n",
    "labels = ['Arborio', 'Basmati', 'Ipsala', 'Jasmine', 'Karacadag']\n",
    "print(classification_report(y_test, y_pred, target_names=labels))\n",
    "\n",
    "#Confusion matrix plot\n",
    "plt.figure(figsize=(6, 6))\n",
    "sns.heatmap(metrics.confusion_matrix(np.argmax(y_test , axis=1), np.argmax(y_pred , axis=1)), annot=True, cmap='Greens')\n",
    "plt.xlabel('Predictions')\n",
    "plt.ylabel('True Labels')\n",
    "plt.title('Confusion matrix' , color='b')\n",
    "plt.show()"
   ]
  },
  {
   "cell_type": "markdown",
   "id": "5df094c7",
   "metadata": {},
   "source": [
    "## Input cell for predicition"
   ]
  },
  {
   "cell_type": "code",
   "execution_count": 55,
   "id": "5292efc1",
   "metadata": {},
   "outputs": [
    {
     "name": "stdout",
     "output_type": "stream",
     "text": [
      "[[0.0000000e+00 1.2028224e-35 0.0000000e+00 1.0000000e+00 0.0000000e+00]]\n"
     ]
    }
   ],
   "source": [
    "test_image = tf.keras.utils.load_img(r\"D:\\IT\\IMT Courses\\Deep Learning\\CNN\\Projects\\P2 (Final Project)\\Separated data\\test\\Jasmine\\Jasmine (2).jpg\",\n",
    "                                     target_size=(256, 256))\n",
    "test_image = tf.keras.utils.array_to_img(test_image)\n",
    "test_image = np.expand_dims(test_image , axis=0)\n",
    "predict = CNN.predict(test_image)\n",
    "print(predict)"
   ]
  },
  {
   "cell_type": "markdown",
   "id": "8be6f9e9",
   "metadata": {},
   "source": [
    "# Make model with pytorch"
   ]
  },
  {
   "cell_type": "markdown",
   "id": "70f1ecbd",
   "metadata": {},
   "source": [
    "# AlexNet"
   ]
  },
  {
   "attachments": {
    "image.png": {
     "image/png": "[encoded data removed]"
    }
   },
   "cell_type": "markdown",
   "id": "c8c562ce",
   "metadata": {},
   "source": [
    "![image.png](attachment:image.png)"
   ]
  },
  {
   "cell_type": "code",
   "execution_count": 50,
   "id": "f15e4dc6",
   "metadata": {},
   "outputs": [],
   "source": [
    "class AlexNet(nn.Module):\n",
    "    def __init__(self , num_classes):\n",
    "        super(AlexNet,self).__init__()\n",
    "        \n",
    "        self.layer1 = nn.Sequential(\n",
    "                      nn.Conv2d(3, 96, kernel_size=11, stride=4, padding=0),\n",
    "                      nn.BatchNorm2d(96),\n",
    "                      nn.ReLU(),\n",
    "                      nn.MaxPool2d(kernel_size=3 , stride=2))\n",
    "        \n",
    "        self.layer2 = nn.Sequential(\n",
    "                      nn.Conv2d(96, 256, kernel_size=5, stride=1, padding=2),\n",
    "                      nn.BatchNorm2d(256),\n",
    "                      nn.ReLU(),\n",
    "                      nn.MaxPool2d(kernel_size=3 , stride=2))\n",
    "        \n",
    "        self.layer3 = nn.Sequential(\n",
    "                      nn.Conv2d(256, 384, kernel_size=3, stride=1, padding=1),\n",
    "                      nn.BatchNorm2d(384),\n",
    "                      nn.ReLU())\n",
    "        \n",
    "        self.layer4 = nn.Sequential(\n",
    "                      nn.Conv2d(384, 384, kernel_size=3, stride=1, padding=1),\n",
    "                      nn.BatchNorm2d(384),\n",
    "                      nn.ReLU())\n",
    "        \n",
    "        self.layer5 = nn.Sequential(\n",
    "                      nn.Conv2d(384, 256, kernel_size=3, stride=1, padding=1),\n",
    "                      nn.BatchNorm2d(256),\n",
    "                      nn.ReLU(),\n",
    "                      nn.MaxPool2d(kernel_size=3 , stride=2))\n",
    "        \n",
    "        self.fc1 = nn.Sequential(\n",
    "                   nn.Dropout(0.5),\n",
    "                   nn.Linear(9216, 4096),\n",
    "                   nn.ReLU())\n",
    "        \n",
    "        self.fc2 = nn.Sequential(\n",
    "                   nn.Dropout(0.5),\n",
    "                   nn.Linear(4096, 4096),\n",
    "                   nn.ReLU())\n",
    "        \n",
    "        self.fc3 = nn.Sequential(\n",
    "                   nn.Linear(4096, num_classes),\n",
    "                   nn.Softmax())\n",
    "        \n",
    "    def forward(self,x):\n",
    "        out = self.layer1(x)\n",
    "        out = self.layer2(out)\n",
    "        out = self.layer3(out)\n",
    "        out = self.layer4(out)\n",
    "        out = self.layer5(out)\n",
    "        \n",
    "        out = out.reshape(out.size(0),-1)\n",
    "        \n",
    "        out = self.fc1(out)\n",
    "        out = self.fc2(out)\n",
    "        out = self.fc3(out)\n",
    "        \n",
    "        return out\n",
    "\n",
    "num_classes = 5\n",
    "alexnet = AlexNet(num_classes)"
   ]
  },
  {
   "cell_type": "markdown",
   "id": "2150a8e2",
   "metadata": {},
   "source": [
    "## Set loss and optimizer function"
   ]
  },
  {
   "cell_type": "code",
   "execution_count": 51,
   "id": "df57435b",
   "metadata": {},
   "outputs": [],
   "source": [
    "Loss = nn.CrossEntropyLoss()\n",
    "optimizer = optim.SGD(alexnet.parameters(), lr=0.005, weight_decay=0.005, momentum=0.9)"
   ]
  },
  {
   "cell_type": "markdown",
   "id": "bf67db51",
   "metadata": {},
   "source": [
    "## Train the model"
   ]
  },
  {
   "cell_type": "code",
   "execution_count": 52,
   "id": "0d8cd6f6",
   "metadata": {},
   "outputs": [
    {
     "name": "stderr",
     "output_type": "stream",
     "text": [
      "C:\\Users\\moham\\anaconda3\\lib\\site-packages\\torch\\nn\\modules\\container.py:217: UserWarning: Implicit dimension choice for softmax has been deprecated. Change the call to include dim=X as an argument.\n",
      "  input = module(input)\n"
     ]
    },
    {
     "name": "stdout",
     "output_type": "stream",
     "text": [
      "[Epoch 1 , Batch200]  Loss: 1.079\n",
      "[Epoch 1 , Batch400]  Loss: 0.937\n",
      "[Epoch 1 , Batch600]  Loss: 0.923\n",
      "[Epoch 1 , Batch800]  Loss: 0.922\n",
      "Finsh Training\n"
     ]
    }
   ],
   "source": [
    "num_epoch = 1\n",
    "for num_epoch in range(num_epoch):\n",
    "    \n",
    "    runnig_loss=0\n",
    "    for index,data in enumerate(TrainData):\n",
    "        \n",
    "        inputs,labels = data\n",
    "        optimizer.zero_grad()\n",
    "        output = alexnet(inputs)\n",
    "        loss = Loss(output,labels)\n",
    "        loss.backward()\n",
    "        optimizer.step()\n",
    "        \n",
    "        runnig_loss += loss.item()\n",
    "        if index%200 == 199:\n",
    "            print('[Epoch {} , Batch{}]  Loss: {:.3f}'.format(num_epoch+1, index+1, runnig_loss/200))\n",
    "            runnig_loss = 0\n",
    "            \n",
    "print('Finsh Training')"
   ]
  },
  {
   "cell_type": "markdown",
   "id": "ef88f011",
   "metadata": {},
   "source": [
    "## Evaluate the model"
   ]
  },
  {
   "cell_type": "code",
   "execution_count": 53,
   "id": "156cd09c",
   "metadata": {},
   "outputs": [
    {
     "name": "stdout",
     "output_type": "stream",
     "text": [
      "Validation 0.923 , Validation Accuracy: 0.984\n"
     ]
    }
   ],
   "source": [
    "val_loss = 0\n",
    "correct = 0\n",
    "total = 0\n",
    "with torch.no_grad():\n",
    "    alexnet.eval()\n",
    "    for ValData in ValidatinData:\n",
    "        inputs, labels = ValData\n",
    "        outputs = alexnet(inputs)\n",
    "        val_loss += Loss(outputs, labels).item()\n",
    "\n",
    "        _, predicted = torch.max(outputs, 1)\n",
    "        total += labels.size(0)\n",
    "        correct += (predicted == labels).sum().item()\n",
    "\n",
    "    val_loss /= len(ValidatinData)  # Correct indentation here\n",
    "    val_acc = correct / total\n",
    "\n",
    "print(f'Validation {val_loss:.3f} , Validation Accuracy: {val_acc:.3f}')\n"
   ]
  },
  {
   "cell_type": "markdown",
   "id": "dc11737a",
   "metadata": {},
   "source": [
    "## Save model"
   ]
  },
  {
   "cell_type": "code",
   "execution_count": 18,
   "id": "19e8dbc0",
   "metadata": {},
   "outputs": [],
   "source": [
    "pytorch_patch = r'D:/IT/IMT Courses/Deep Learning/CNN/Projects/P2_Final_Project_pytorch.pth'\n",
    "torch.save(alexnet.state_dict() , pytorch_patch)"
   ]
  },
  {
   "cell_type": "markdown",
   "id": "47b392b8",
   "metadata": {},
   "source": [
    "# Transfer Learning\n",
    "## Do we really need to write that a lots of code like classes ?\n",
    "the awnser is NO ! We can use Transfer Learning \n",
    "## What is Transfer Learning ?\n",
    "in Transfer Learning we use a pretrained model so we dont need to make classes any more and we have the best wight becuse that trained for many time before and we just need to change amounts the last lyee and put it amount our classes insted of  "
   ]
  },
  {
   "cell_type": "markdown",
   "id": "da058ee0",
   "metadata": {},
   "source": [
    "## Import library \n",
    "first we need to import the library for having access to models "
   ]
  },
  {
   "cell_type": "code",
   "execution_count": 3,
   "id": "8d410926",
   "metadata": {},
   "outputs": [],
   "source": [
    "import torchvision.models as models"
   ]
  },
  {
   "cell_type": "markdown",
   "id": "53c5ba83",
   "metadata": {},
   "source": [
    "## Import the model\n",
    "now we need to chang the amount of the last lyer to number our classes "
   ]
  },
  {
   "cell_type": "code",
   "execution_count": 12,
   "id": "da82d65b",
   "metadata": {},
   "outputs": [],
   "source": [
    "num_classes = 5\n",
    "AlexNet = models.alexnet(pretrained=True)\n",
    "AlexNet.classifier[6] = nn.Linear(4096 , num_classes)"
   ]
  },
  {
   "cell_type": "markdown",
   "id": "3ac1e355",
   "metadata": {},
   "source": [
    "## Set loss and optimizer function"
   ]
  },
  {
   "cell_type": "code",
   "execution_count": 13,
   "id": "3393405e",
   "metadata": {},
   "outputs": [],
   "source": [
    "Loss = nn.CrossEntropyLoss()\n",
    "optimizer = optim.SGD(AlexNet.parameters(), lr=0.005, weight_decay=0.005, momentum=0.9)"
   ]
  },
  {
   "cell_type": "markdown",
   "id": "284061df",
   "metadata": {},
   "source": [
    "## Train the model\n",
    "it's like abouve "
   ]
  },
  {
   "cell_type": "code",
   "execution_count": 14,
   "id": "e08cf09a",
   "metadata": {},
   "outputs": [
    {
     "name": "stdout",
     "output_type": "stream",
     "text": [
      "[Epoch 1 , Batch200]  Loss: 0.996\n",
      "[Epoch 1 , Batch400]  Loss: 0.402\n",
      "[Epoch 1 , Batch600]  Loss: 0.218\n",
      "[Epoch 1 , Batch800]  Loss: 0.087\n",
      "Finsh Training\n"
     ]
    }
   ],
   "source": [
    "num_epoch = 1\n",
    "for num_epoch in range(num_epoch):\n",
    "    \n",
    "    runnig_loss=0\n",
    "    for index,data in enumerate(TrainData):\n",
    "        \n",
    "        inputs,labels = data\n",
    "        optimizer.zero_grad()\n",
    "        output = AlexNet(inputs)\n",
    "        loss = Loss(output,labels)\n",
    "        loss.backward()\n",
    "        optimizer.step()\n",
    "        \n",
    "        runnig_loss += loss.item()\n",
    "        if index%200 == 199:\n",
    "            print('[Epoch {} , Batch{}]  Loss: {:.3f}'.format(num_epoch+1, index+1, runnig_loss/200))\n",
    "            runnig_loss = 0\n",
    "            \n",
    "print('Finsh Training')"
   ]
  },
  {
   "cell_type": "markdown",
   "id": "f83ac468",
   "metadata": {},
   "source": [
    "## Evaluate the model\n",
    "like above "
   ]
  },
  {
   "cell_type": "code",
   "execution_count": 15,
   "id": "368aa85e",
   "metadata": {},
   "outputs": [
    {
     "name": "stdout",
     "output_type": "stream",
     "text": [
      "Validation 0.043 , Validation Accuracy: 0.988\n"
     ]
    }
   ],
   "source": [
    "val_loss = 0\n",
    "correct = 0\n",
    "total = 0\n",
    "with torch.no_grad():\n",
    "    AlexNet.eval()\n",
    "    for ValData in ValidatinData:\n",
    "        inputs, labels = ValData\n",
    "        outputs = AlexNet(inputs)\n",
    "        val_loss += Loss(outputs, labels).item()\n",
    "\n",
    "        _, predicted = torch.max(outputs, 1)\n",
    "        total += labels.size(0)\n",
    "        correct += (predicted == labels).sum().item()\n",
    "\n",
    "    val_loss /= len(ValidatinData)  # Correct indentation here\n",
    "    val_acc = correct / total\n",
    "\n",
    "print(f'Validation {val_loss:.3f} , Validation Accuracy: {val_acc:.3f}')"
   ]
  },
  {
   "cell_type": "markdown",
   "id": "58c6a907",
   "metadata": {},
   "source": [
    "## Save model"
   ]
  },
  {
   "cell_type": "code",
   "execution_count": 41,
   "id": "f4102028",
   "metadata": {},
   "outputs": [],
   "source": [
    "pytorch_path = r'D:/IT/IMT Courses/Deep Learning/CNN/Projects/P2_Final_Project_pytorch_Transfer Learning.pth'\n",
    "torch.save(AlexNet.state_dict() , pytorch_patch)"
   ]
  },
  {
   "cell_type": "markdown",
   "id": "39b41e3d",
   "metadata": {},
   "source": [
    "## Load the model "
   ]
  },
  {
   "cell_type": "code",
   "execution_count": 42,
   "id": "6bad0c9b",
   "metadata": {},
   "outputs": [
    {
     "data": {
      "text/plain": [
       "<All keys matched successfully>"
      ]
     },
     "execution_count": 42,
     "metadata": {},
     "output_type": "execute_result"
    }
   ],
   "source": [
    "StateDict = torch.load(r\"D:\\IT\\IMT Courses\\Deep Learning\\CNN\\Projects\\P2_Final_Project_pytorch_Transfer Learning.pth\")\n",
    "AlexNet.load_state_dict(StateDict)"
   ]
  },
  {
   "cell_type": "markdown",
   "id": "ae921a61",
   "metadata": {},
   "source": [
    "## Input cell for predicting"
   ]
  },
  {
   "cell_type": "code",
   "execution_count": 80,
   "id": "b1298486",
   "metadata": {},
   "outputs": [
    {
     "name": "stdout",
     "output_type": "stream",
     "text": [
      "Arborio\n"
     ]
    }
   ],
   "source": [
    "image_path = r\"D:\\IT\\IMT Courses\\Deep Learning\\CNN\\Projects\\P2 (Final Project)\\Separated data\\test\\Arborio\\Arborio (42).jpg\"\n",
    "image = Image.open(image_path)\n",
    "\n",
    "image = transform(image) \n",
    "image = image.unsqueeze(0) #add a batch dimension\n",
    "\n",
    "# Set the model to evaluation mode\n",
    "AlexNet.eval()\n",
    "\n",
    "# with torch.no_grad():\n",
    "predict = AlexNet(image)\n",
    "predicted_class_index = torch.argmax(predict).item()\n",
    "\n",
    "# For showing the label of index\n",
    "def show_label(predicted_class_index):\n",
    "    if predicted_class_index == 0:\n",
    "        print('Arborio')\n",
    "    elif predicted_class_index == 1:\n",
    "        print('Basmati')\n",
    "    elif predicted_class_index == 2:\n",
    "        print('Ipsala')\n",
    "    elif predicted_class_index == 3:\n",
    "        print('Jasmine')\n",
    "    else:\n",
    "        print('Karacadag')\n",
    "\n",
    "show_label(predicted_class_index)"
   ]
  },
  {
   "cell_type": "markdown",
   "id": "127c5950",
   "metadata": {},
   "source": [
    "# ENDE, THANKS FOR READING "
   ]
  },
  {
   "cell_type": "code",
   "execution_count": null,
   "id": "1bed9c95",
   "metadata": {},
   "outputs": [],
   "source": []
  }
 ],
 "metadata": {
  "kernelspec": {
   "display_name": "Python 3",
   "language": "python",
   "name": "python3"
  },
  "language_info": {
   "codemirror_mode": {
    "name": "ipython",
    "version": 3
   },
   "file_extension": ".py",
   "mimetype": "text/x-python",
   "name": "python",
   "nbconvert_exporter": "python",
   "pygments_lexer": "ipython3",
   "version": "3.8.8"
  }
 },
 "nbformat": 4,
 "nbformat_minor": 5
}
